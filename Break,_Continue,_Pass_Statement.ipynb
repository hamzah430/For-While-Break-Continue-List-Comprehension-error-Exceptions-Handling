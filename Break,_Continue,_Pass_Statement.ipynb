{
  "nbformat": 4,
  "nbformat_minor": 0,
  "metadata": {
    "colab": {
      "name": "Break, Continue, Pass Statement.ipynb",
      "provenance": [],
      "collapsed_sections": []
    },
    "kernelspec": {
      "name": "python3",
      "display_name": "Python 3"
    },
    "language_info": {
      "name": "python"
    }
  },
  "cells": [
    {
      "cell_type": "markdown",
      "source": [
        "# Break Statement\n",
        "* The break statement in Python terminates the current loop and resumes execution at the next statement\n",
        "* The break statement can be used in both while and for loops"
      ],
      "metadata": {
        "id": "w4-vuZa7Kg76"
      }
    },
    {
      "cell_type": "code",
      "source": [
        "for i in \"Learning Python from Youtube\" :\n",
        "  if i == \"f\" :\n",
        "    break\n",
        "  print(i)"
      ],
      "metadata": {
        "id": "2ILmmcsaKx5X",
        "colab": {
          "base_uri": "https://localhost:8080/"
        },
        "outputId": "0089c567-f242-4161-da78-418e23326855"
      },
      "execution_count": 1,
      "outputs": [
        {
          "output_type": "stream",
          "name": "stdout",
          "text": [
            "L\n",
            "e\n",
            "a\n",
            "r\n",
            "n\n",
            "i\n",
            "n\n",
            "g\n",
            " \n",
            "P\n",
            "y\n",
            "t\n",
            "h\n",
            "o\n",
            "n\n",
            " \n"
          ]
        }
      ]
    },
    {
      "cell_type": "markdown",
      "source": [
        "# Continue Statement\n",
        "* The continue statement in Python returns the control to the beginning of the while loop\n",
        "* The continue statement rejects all the remaining statements in the current iteration of the loop and moves the control back to the top of the loop\n",
        "* The continue statement can be used in both while and for loops"
      ],
      "metadata": {
        "id": "MTT2oAx8L1fw"
      }
    },
    {
      "cell_type": "code",
      "source": [
        "for i in \"Learning\" :\n",
        "  if i == \"n\" :\n",
        "    continue\n",
        "  print(i)"
      ],
      "metadata": {
        "id": "TwnsRKFOMrfj",
        "colab": {
          "base_uri": "https://localhost:8080/"
        },
        "outputId": "783f5b79-3a1b-4981-9b8e-f291c4412749"
      },
      "execution_count": 4,
      "outputs": [
        {
          "output_type": "stream",
          "name": "stdout",
          "text": [
            "L\n",
            "e\n",
            "a\n",
            "r\n",
            "i\n",
            "g\n"
          ]
        }
      ]
    },
    {
      "cell_type": "markdown",
      "source": [
        "# Pass Statement\n",
        "* The pass statement is used as a placeholder for future code.\n",
        "* When the pass statement is executed, nothing happens, but the avoid getting an error when empty code is not allowed.\n",
        "* Pass statement is used when it's not yet implemented, and keeps the program running."
      ],
      "metadata": {
        "id": "-YmhCkF1ETyt"
      }
    },
    {
      "cell_type": "code",
      "execution_count": 5,
      "metadata": {
        "colab": {
          "base_uri": "https://localhost:8080/",
          "height": 322
        },
        "id": "LDpAHv1FD7Gx",
        "outputId": "fc7be1c0-c7b4-47e2-a473-ffe25020d8c9"
      },
      "outputs": [
        {
          "name": "stdout",
          "output_type": "stream",
          "text": [
            "Peroleh : 4\n",
            "Mendapat angka 4 \n",
            "Peroleh : 5\n",
            "Mendapat angka 5 \n",
            "Peroleh : 6\n",
            "Mendapat angka 6 \n",
            "Peroleh : g\n"
          ]
        },
        {
          "output_type": "error",
          "ename": "ValueError",
          "evalue": "ignored",
          "traceback": [
            "\u001b[0;31m---------------------------------------------------------------------------\u001b[0m",
            "\u001b[0;31mValueError\u001b[0m                                Traceback (most recent call last)",
            "\u001b[0;32m<ipython-input-5-ed5a3ebbaae8>\u001b[0m in \u001b[0;36m<module>\u001b[0;34m()\u001b[0m\n\u001b[1;32m      3\u001b[0m \u001b[0;32mwhile\u001b[0m\u001b[0;34m(\u001b[0m\u001b[0mn\u001b[0m \u001b[0;34m!=\u001b[0m \u001b[0;34m\"z\"\u001b[0m\u001b[0;34m)\u001b[0m\u001b[0;34m:\u001b[0m\u001b[0;34m\u001b[0m\u001b[0;34m\u001b[0m\u001b[0m\n\u001b[1;32m      4\u001b[0m   \u001b[0mn\u001b[0m \u001b[0;34m=\u001b[0m \u001b[0;34m(\u001b[0m\u001b[0minput\u001b[0m\u001b[0;34m(\u001b[0m\u001b[0;34m\"Peroleh : \"\u001b[0m\u001b[0;34m)\u001b[0m\u001b[0;34m)\u001b[0m\u001b[0;34m\u001b[0m\u001b[0;34m\u001b[0m\u001b[0m\n\u001b[0;32m----> 5\u001b[0;31m   \u001b[0mprint\u001b[0m\u001b[0;34m(\u001b[0m\u001b[0;34m\"Mendapat angka {} \"\u001b[0m\u001b[0;34m.\u001b[0m\u001b[0mformat\u001b[0m\u001b[0;34m(\u001b[0m\u001b[0mint\u001b[0m\u001b[0;34m(\u001b[0m\u001b[0mn\u001b[0m\u001b[0;34m)\u001b[0m\u001b[0;34m)\u001b[0m\u001b[0;34m)\u001b[0m \u001b[0;31m#should numeric\u001b[0m\u001b[0;34m\u001b[0m\u001b[0;34m\u001b[0m\u001b[0m\n\u001b[0m",
            "\u001b[0;31mValueError\u001b[0m: invalid literal for int() with base 10: 'g'"
          ]
        }
      ],
      "source": [
        "n = \"\"\n",
        "\n",
        "while(n != \"z\"):\n",
        "  n = (input(\"Peroleh : \"))\n",
        "  print(\"Mendapat angka {} \".format(int(n))) #should numeric"
      ]
    },
    {
      "cell_type": "code",
      "source": [
        "6import sys #error checking (try and except)\n",
        "\n",
        "n = ''\n",
        "\n",
        "while(n != \"exit\"):\n",
        "  try:\n",
        "    n = input(\"Enter : \")\n",
        "    #n = int(input(\"Enter : \"))\n",
        "    print(\"Angka {} \".format(int(n))) #want integer\n",
        "  except:\n",
        "    if n==\"exit\":\n",
        "      pass #will stop\n",
        "    else:\n",
        "      print(\"Error {} \".format(sys.exc_info()[0]))"
      ],
      "metadata": {
        "colab": {
          "base_uri": "https://localhost:8080/"
        },
        "id": "r72Hv1b1FjQ2",
        "outputId": "444ac893-6654-4fce-b72f-5c1289cc8e7b"
      },
      "execution_count": null,
      "outputs": [
        {
          "output_type": "stream",
          "name": "stdout",
          "text": [
            "Enter : 4\n",
            "Angka 4 \n",
            "Enter : 5\n",
            "Angka 5 \n",
            "Enter : \n",
            "Error <class 'ValueError'> \n",
            "Enter : g\n",
            "Error <class 'ValueError'> \n"
          ]
        }
      ]
    }
  ]
}