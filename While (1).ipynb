{
  "nbformat": 4,
  "nbformat_minor": 0,
  "metadata": {
    "colab": {
      "name": "While.ipynb",
      "provenance": [],
      "collapsed_sections": []
    },
    "kernelspec": {
      "name": "python3",
      "display_name": "Python 3"
    },
    "language_info": {
      "name": "python"
    }
  },
  "cells": [
    {
      "cell_type": "markdown",
      "source": [
        "# While"
      ],
      "metadata": {
        "id": "8D1A9OPtAHWT"
      }
    },
    {
      "cell_type": "markdown",
      "source": [
        "* While can execute a set of statements as long as a condition is true\n",
        "* When the condition becomes false, the line immediately after the loop in the program is executed"
      ],
      "metadata": {
        "id": "MQ4G4F_CAuxy"
      }
    },
    {
      "cell_type": "code",
      "execution_count": 2,
      "metadata": {
        "colab": {
          "base_uri": "https://localhost:8080/"
        },
        "id": "CJ6Ho0vW4OqY",
        "outputId": "73faf463-0d57-4d68-e9a3-7afee21fe1a1"
      },
      "outputs": [
        {
          "output_type": "stream",
          "name": "stdout",
          "text": [
            "Insert a Limit Number : 5\n",
            "Number 3\n",
            "Number 4\n",
            "Number 5\n"
          ]
        }
      ],
      "source": [
        "a = int(input(\"Insert a Limit Number : \"))\n",
        "i = 3\n",
        "\n",
        "while (i>=3 and i<=a):\n",
        "  print(\"Number {}\". format(i))\n",
        "  i+=1"
      ]
    },
    {
      "cell_type": "markdown",
      "source": [
        "# Else after While"
      ],
      "metadata": {
        "id": "gHEpV6kyB_zs"
      }
    },
    {
      "cell_type": "markdown",
      "source": [
        "* Else is only executed when a while condition becomes false"
      ],
      "metadata": {
        "id": "N_X1FONRDDMA"
      }
    },
    {
      "cell_type": "code",
      "source": [
        "a = 10\n",
        "\n",
        "while(a<=15):\n",
        "  print(a)\n",
        "  a+=1\n",
        "else :\n",
        "  print(\"loop selesai\")"
      ],
      "metadata": {
        "colab": {
          "base_uri": "https://localhost:8080/"
        },
        "id": "K1JMQaM6Ch8K",
        "outputId": "92d46585-6ece-4cbb-b003-1c5d4abbbfb8"
      },
      "execution_count": 5,
      "outputs": [
        {
          "output_type": "stream",
          "name": "stdout",
          "text": [
            "10\n",
            "11\n",
            "12\n",
            "13\n",
            "14\n",
            "15\n",
            "loop selesai\n"
          ]
        }
      ]
    }
  ]
}