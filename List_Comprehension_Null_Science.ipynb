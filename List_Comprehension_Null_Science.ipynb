{
  "nbformat": 4,
  "nbformat_minor": 0,
  "metadata": {
    "colab": {
      "name": "List Comprehension-Null Science.ipynb",
      "provenance": []
    },
    "kernelspec": {
      "name": "python3",
      "display_name": "Python 3"
    },
    "language_info": {
      "name": "python"
    }
  },
  "cells": [
    {
      "cell_type": "markdown",
      "source": [
        "# List Comprehension"
      ],
      "metadata": {
        "id": "WWd8-Qx-LN8x"
      }
    },
    {
      "cell_type": "markdown",
      "source": [
        "List Comprehension\n",
        "List comprehension offers a shorter syntax when you want to create a new list based on the values of an existing list.\n",
        "\n",
        "Example:\n",
        "\n",
        "Based on a list of groceries, you want a new list, containing only the groceries with the letter \"e\" in the name.\n",
        "\n",
        "Without list comprehension you will have to write a for statement with a conditional test inside:"
      ],
      "metadata": {
        "id": "tTFDv-seLTwV"
      }
    },
    {
      "cell_type": "code",
      "execution_count": 1,
      "metadata": {
        "colab": {
          "base_uri": "https://localhost:8080/"
        },
        "id": "c_k706noKsTu",
        "outputId": "345f27cd-0f7a-4dd7-c112-e78519575c05"
      },
      "outputs": [
        {
          "output_type": "stream",
          "name": "stdout",
          "text": [
            "['rice', 'bread', 'cereal', 'eyeliner']\n"
          ]
        }
      ],
      "source": [
        "groceries = [\"broom\", \"soap\", \"rice\", \"bread\", \"cereal\", \"fork\", \"spoon\", \"eyeliner\"]\n",
        "newlist = []\n",
        "\n",
        "for x in groceries:\n",
        "  if \"e\" in x:\n",
        "    newlist.append(x)\n",
        "\n",
        "print(newlist)"
      ]
    },
    {
      "cell_type": "markdown",
      "source": [
        "Or in the list a number,  you want a new list, that can perform mathematical operations on it"
      ],
      "metadata": {
        "id": "6_iTUYrvM4-X"
      }
    },
    {
      "cell_type": "code",
      "source": [
        "num1 = range(1, 20)\n",
        "num2 = range(1, 20)\n",
        "\n",
        "newlist = []\n",
        "\n",
        "for x in num1:\n",
        "  for y in num2:\n",
        "    if x//y == 4 and x%y == 2:\n",
        "      newlist.append([x, y])\n",
        "print(newlist)"
      ],
      "metadata": {
        "colab": {
          "base_uri": "https://localhost:8080/"
        },
        "id": "hvcAAF_rOagX",
        "outputId": "26296ff6-fd28-4240-c1dc-b3d2206c1c8e"
      },
      "execution_count": 2,
      "outputs": [
        {
          "output_type": "stream",
          "name": "stdout",
          "text": [
            "[[14, 3], [18, 4]]\n"
          ]
        }
      ]
    },
    {
      "cell_type": "markdown",
      "source": [
        "* With list comprehension you can do all that with only one line of code:"
      ],
      "metadata": {
        "id": "BWmxzY2vPUqN"
      }
    },
    {
      "cell_type": "markdown",
      "source": [
        "# The Syntax"
      ],
      "metadata": {
        "id": "6ONGh2LhPcYz"
      }
    },
    {
      "cell_type": "markdown",
      "source": [
        "newlist = [expression for item in iterable if condition == True]\n",
        "\n",
        "The return value is a new list, leaving the old list unchanged."
      ],
      "metadata": {
        "id": "UFDWwDCaPfML"
      }
    },
    {
      "cell_type": "code",
      "source": [
        "groceries = [\"broom\", \"soap\", \"rice\", \"bread\", \"cereal\", \"fork\", \"spoon\", \"eyeliner\"]\n",
        "newlist = [x for x in groceries if \"e\" in x]\n",
        "print(newlist)"
      ],
      "metadata": {
        "colab": {
          "base_uri": "https://localhost:8080/"
        },
        "id": "qWUtq-ItPens",
        "outputId": "f96fb356-8dce-4060-8bf1-299072e5599e"
      },
      "execution_count": 3,
      "outputs": [
        {
          "output_type": "stream",
          "name": "stdout",
          "text": [
            "['rice', 'bread', 'cereal', 'eyeliner']\n"
          ]
        }
      ]
    },
    {
      "cell_type": "code",
      "source": [
        "num1 = range(1, 20)\n",
        "num2 = range(1, 20)\n",
        "\n",
        "newlist = [x for x in num1 for y in num2 if x//y == 4 and x%y == 2]\n",
        "print(newlist)"
      ],
      "metadata": {
        "colab": {
          "base_uri": "https://localhost:8080/"
        },
        "id": "AReYrQ2xQw2d",
        "outputId": "551f339a-6048-4065-b7df-199ad0b049d9"
      },
      "execution_count": 4,
      "outputs": [
        {
          "output_type": "stream",
          "name": "stdout",
          "text": [
            "[14, 18]\n"
          ]
        }
      ]
    },
    {
      "cell_type": "markdown",
      "source": [
        "# Another example"
      ],
      "metadata": {
        "id": "0ugGLuRyV54u"
      }
    },
    {
      "cell_type": "markdown",
      "source": [
        "- Underscores include valid variable names\n",
        "- In general \"_\" is used as a throwaway variable (unimportant variable)"
      ],
      "metadata": {
        "id": "BmgCNQ6vRMu6"
      }
    },
    {
      "cell_type": "code",
      "source": [
        "num=range(1,8,2)\n",
        "newlist = [[_**0.5, _**2] for _ in num]\n",
        "print(newlist)"
      ],
      "metadata": {
        "colab": {
          "base_uri": "https://localhost:8080/"
        },
        "id": "jpr1tA7fRNr8",
        "outputId": "bb7e4362-c8fb-45af-b0c9-679f334ce764"
      },
      "execution_count": 5,
      "outputs": [
        {
          "output_type": "stream",
          "name": "stdout",
          "text": [
            "[[1.0, 1], [1.7320508075688772, 9], [2.23606797749979, 25], [2.6457513110645907, 49]]\n"
          ]
        }
      ]
    }
  ]
}