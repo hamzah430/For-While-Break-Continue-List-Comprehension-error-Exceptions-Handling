{
  "nbformat": 4,
  "nbformat_minor": 0,
  "metadata": {
    "colab": {
      "name": "Syntax Error.ipynb",
      "provenance": [],
      "collapsed_sections": []
    },
    "kernelspec": {
      "name": "python3",
      "display_name": "Python 3"
    },
    "language_info": {
      "name": "python"
    }
  },
  "cells": [
    {
      "cell_type": "markdown",
      "source": [
        "# **Syntax Errors**\n",
        "\n",
        "---\n",
        "\n",
        "Syntax errors or often called parsing errors."
      ],
      "metadata": {
        "id": "OSARdKvJ6hSE"
      }
    },
    {
      "cell_type": "markdown",
      "source": [
        "Syntax errors occur when Python can't understand what you're commanding. Whereas exceptions (errors while operating) occur when Python understands what you are commanding but gets problems following what you command (occurs when the application is already running)."
      ],
      "metadata": {
        "id": "zjqsUQZR8fDR"
      }
    },
    {
      "cell_type": "markdown",
      "source": [
        "**Example of a syntax error :**\n",
        "\n",
        "*   Incorrect placement of indents (spaces at the beginning)."
      ],
      "metadata": {
        "id": "-a1xYGlo9Sht"
      }
    },
    {
      "cell_type": "code",
      "execution_count": null,
      "metadata": {
        "id": "AgnCksaX6b2H"
      },
      "outputs": [],
      "source": [
        "print('Hello World')\n",
        " File \"<stdin>\", line 1\n",
        "  print('Hello World')"
      ]
    },
    {
      "cell_type": "markdown",
      "source": [
        "*   After the condition of the while command requires a colon (:)."
      ],
      "metadata": {
        "id": "KwBWZHl1-zYh"
      }
    },
    {
      "cell_type": "code",
      "source": [
        "while True print('Hello world')\n",
        " File \"<stdin>\", line 1\n",
        "  while True print('Hello world')"
      ],
      "metadata": {
        "id": "r18WsZH7_EcT"
      },
      "execution_count": null,
      "outputs": []
    },
    {
      "cell_type": "markdown",
      "source": [
        "In a syntax error, the line where the error was detected is reappeared, followed by an arrow indicating the earliest point of the error."
      ],
      "metadata": {
        "id": "RPa_nHbu_QDg"
      }
    },
    {
      "cell_type": "markdown",
      "source": [
        "The two examples above have different groups (types) of errors, the first is Indentation Error and the second is Syntax Error. Then after mentioning it, there is a detailed error message (description), such as an unexpected indent."
      ],
      "metadata": {
        "id": "WJsdyRon_c0O"
      }
    },
    {
      "cell_type": "markdown",
      "source": [
        "If using script call mode, the script file name and line number where the error occurred will be returned. As for the interactive mode in the two examples above, the filename appears as \"stdin\". Here's an example of calling a script named example_error_syntax.py where an error occurs on line 2."
      ],
      "metadata": {
        "id": "xtJD3DbW_iOn"
      }
    },
    {
      "cell_type": "code",
      "source": [
        "python syntax_error.py\n",
        " File \"syntax error.py\", line 2\n",
        "  if True print('Syntax is wrong')"
      ],
      "metadata": {
        "id": "_geR0CtO_z4A"
      },
      "execution_count": null,
      "outputs": []
    },
    {
      "cell_type": "markdown",
      "source": [
        "Another Example :"
      ],
      "metadata": {
        "id": "qu5LTw3bvuLF"
      }
    },
    {
      "cell_type": "code",
      "source": [
        "print\"Hello World"
      ],
      "metadata": {
        "id": "yk3B7x1vvyAL"
      },
      "execution_count": null,
      "outputs": []
    }
  ]
}