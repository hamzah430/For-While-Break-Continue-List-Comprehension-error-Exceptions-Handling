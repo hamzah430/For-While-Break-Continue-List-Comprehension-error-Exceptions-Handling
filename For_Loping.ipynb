{
  "nbformat": 4,
  "nbformat_minor": 0,
  "metadata": {
    "colab": {
      "name": "For Loping.ipynb",
      "provenance": [],
      "collapsed_sections": []
    },
    "kernelspec": {
      "name": "python3",
      "display_name": "Python 3"
    },
    "language_info": {
      "name": "python"
    }
  },
  "cells": [
    {
      "cell_type": "markdown",
      "source": [
        "#**For Loop**\n",
        ">for loop is used for iterating over a sequence (that is either a list, a tuple, a dictionary, a set, or a string).\n",
        "\n",
        "With the for loop we can execute a set of statements, once for each item in a list, tuple, set etc."
      ],
      "metadata": {
        "id": "K3T3CcdY0M7r"
      }
    },
    {
      "cell_type": "code",
      "execution_count": null,
      "metadata": {
        "id": "ky_iRAc_yzQ9",
        "colab": {
          "base_uri": "https://localhost:8080/"
        },
        "outputId": "67ce3d42-3214-4ec4-b094-f15ae66fc5ce"
      },
      "outputs": [
        {
          "output_type": "stream",
          "name": "stdout",
          "text": [
            "Color Red\n",
            "Color Green\n",
            "Color Blue\n"
          ]
        }
      ],
      "source": [
        "color = ['Red', 'Green', 'Blue']\n",
        "\n",
        "for i in color:\n",
        "  print(\"Color\",i)"
      ]
    },
    {
      "cell_type": "markdown",
      "source": [
        "##**Looping Through a String**\n",
        "> Even strings are iterable objects, they contain a sequence of characters:"
      ],
      "metadata": {
        "id": "cGkHsijT01-f"
      }
    },
    {
      "cell_type": "code",
      "source": [
        "for i in 'Looping':\n",
        "  print(i)"
      ],
      "metadata": {
        "id": "v2tYyCsd010q",
        "colab": {
          "base_uri": "https://localhost:8080/"
        },
        "outputId": "48fccf61-a284-49d0-928b-d129eacf3e7a"
      },
      "execution_count": null,
      "outputs": [
        {
          "output_type": "stream",
          "name": "stdout",
          "text": [
            "L\n",
            "o\n",
            "o\n",
            "p\n",
            "i\n",
            "n\n",
            "g\n"
          ]
        }
      ]
    },
    {
      "cell_type": "markdown",
      "source": [
        "##**The range() Function**\n",
        "> To loop through a set of code a specified number of times, we can use the **range()** function,\n",
        "\n",
        "The range() function returns a sequence of numbers, starting from 0 by default, and increments by 1 (by default), and ends at a specified number."
      ],
      "metadata": {
        "id": "YGpYcEhz1SlV"
      }
    },
    {
      "cell_type": "code",
      "source": [
        "for i in range(5):\n",
        "  print(i)"
      ],
      "metadata": {
        "id": "Gz5OUAAj1iFW",
        "colab": {
          "base_uri": "https://localhost:8080/"
        },
        "outputId": "fc9241c8-9eba-4d56-a911-daabeee350ec"
      },
      "execution_count": null,
      "outputs": [
        {
          "output_type": "stream",
          "name": "stdout",
          "text": [
            "0\n",
            "1\n",
            "2\n",
            "3\n",
            "4\n"
          ]
        }
      ]
    },
    {
      "cell_type": "markdown",
      "source": [
        "range(5) is not the values of 0 to 5, but the values 0 to 4."
      ],
      "metadata": {
        "id": "gTiCsY3s13Bd"
      }
    },
    {
      "cell_type": "code",
      "source": [
        "for i in range(2, 10):\n",
        "  print(i)"
      ],
      "metadata": {
        "id": "DM2_0dSj1ls-",
        "colab": {
          "base_uri": "https://localhost:8080/"
        },
        "outputId": "09d31b31-81ea-4562-a6bc-d0b24b9d2f9d"
      },
      "execution_count": null,
      "outputs": [
        {
          "output_type": "stream",
          "name": "stdout",
          "text": [
            "2\n",
            "3\n",
            "4\n",
            "5\n",
            "6\n",
            "7\n",
            "8\n",
            "9\n"
          ]
        }
      ]
    },
    {
      "cell_type": "markdown",
      "source": [
        "range(2, 10), which means values from 2 to 10 (but not including 10)."
      ],
      "metadata": {
        "id": "SYi31phu1-GX"
      }
    },
    {
      "cell_type": "code",
      "source": [
        "for i in range(0, 20, 3):\n",
        "  print(i)"
      ],
      "metadata": {
        "id": "-iX_N4cl1uZl",
        "colab": {
          "base_uri": "https://localhost:8080/"
        },
        "outputId": "243cf307-a605-4f8d-8de0-8617fa17f781"
      },
      "execution_count": null,
      "outputs": [
        {
          "output_type": "stream",
          "name": "stdout",
          "text": [
            "0\n",
            "3\n",
            "6\n",
            "9\n",
            "12\n",
            "15\n",
            "18\n"
          ]
        }
      ]
    },
    {
      "cell_type": "markdown",
      "source": [
        "specify the increment value by adding a third parameter."
      ],
      "metadata": {
        "id": "08ZaoORT2KBr"
      }
    },
    {
      "cell_type": "markdown",
      "source": [
        "##**FOR NESTED**\n",
        "> A nested loop is a loop inside a loop."
      ],
      "metadata": {
        "id": "h3n2VEcP2S3b"
      }
    },
    {
      "cell_type": "code",
      "source": [
        "for i in range(5): #row\n",
        "  for j in range(5): #column\n",
        "    if j<=5:\n",
        "      print(\"*\", end=\" \")\n",
        "  print()"
      ],
      "metadata": {
        "colab": {
          "base_uri": "https://localhost:8080/"
        },
        "id": "NLu_SJZM2THr",
        "outputId": "3217f15b-19b9-4d82-f3fb-8fad8741cc20"
      },
      "execution_count": null,
      "outputs": [
        {
          "output_type": "stream",
          "name": "stdout",
          "text": [
            "* * * * * \n",
            "* * * * * \n",
            "* * * * * \n",
            "* * * * * \n",
            "* * * * * \n"
          ]
        }
      ]
    },
    {
      "cell_type": "code",
      "source": [
        "for i in range(5): #Row\n",
        "  for j in range(i+1): #Column\n",
        "    print(\"*\", end=\" \")\n",
        "  print()"
      ],
      "metadata": {
        "colab": {
          "base_uri": "https://localhost:8080/"
        },
        "id": "eTwzfF4e2vji",
        "outputId": "6440b351-e07d-4ff9-f26c-f85fdb1d93a1"
      },
      "execution_count": null,
      "outputs": [
        {
          "output_type": "stream",
          "name": "stdout",
          "text": [
            "* \n",
            "* * \n",
            "* * * \n",
            "* * * * \n",
            "* * * * * \n"
          ]
        }
      ]
    },
    {
      "cell_type": "markdown",
      "source": [
        "##**break Statement**\n",
        "> with the break statement we can stop the loop before it has looped through all the items"
      ],
      "metadata": {
        "id": "fWKia7H224zH"
      }
    },
    {
      "cell_type": "code",
      "source": [
        "for i in \"Data Science\":\n",
        "  if i==\" \":\n",
        "    break #Stop right here\n",
        "  print(i)"
      ],
      "metadata": {
        "colab": {
          "base_uri": "https://localhost:8080/"
        },
        "id": "i3DJxqdA25DJ",
        "outputId": "696dd3c2-78d6-4d20-b5b5-2bbb490217f2"
      },
      "execution_count": null,
      "outputs": [
        {
          "output_type": "stream",
          "name": "stdout",
          "text": [
            "D\n",
            "a\n",
            "t\n",
            "a\n"
          ]
        }
      ]
    },
    {
      "cell_type": "markdown",
      "source": [
        "##**continue Statement**\n",
        "> with the continue statement we can stop the current iteration of the loop, and continue with the next:"
      ],
      "metadata": {
        "id": "pSMCkT2D3Ify"
      }
    },
    {
      "cell_type": "code",
      "source": [
        "par = \"This is example for Continue Statement\"\n",
        "\n",
        "for i in par:\n",
        "  if i==\"a\" or i==\"i\" or i==\"u\" or i==\"e\" or i==\"o\":\n",
        "    continue\n",
        "  print(i, end=\"\")\n",
        "  #print(i)"
      ],
      "metadata": {
        "colab": {
          "base_uri": "https://localhost:8080/"
        },
        "id": "5ei_WzDw3Ixp",
        "outputId": "39995321-1263-480e-c64c-50e9f0b65531"
      },
      "execution_count": null,
      "outputs": [
        {
          "output_type": "stream",
          "name": "stdout",
          "text": [
            "Ths s xmpl fr Cntn Sttmnt"
          ]
        }
      ]
    },
    {
      "cell_type": "markdown",
      "source": [
        "##**Else after For**\n",
        "> usually using for searching data"
      ],
      "metadata": {
        "id": "XprmdiRX3nMn"
      }
    },
    {
      "cell_type": "code",
      "source": [
        "#Find First Even Number \n",
        "\n",
        "for i in range(1, 7):\n",
        "  if i % 2 == 0:\n",
        "    print(\"{} is Even\". format(i))\n",
        "    break #Stop if True\n",
        "  else:\n",
        "    print(\"{} is Odd\". format(i))"
      ],
      "metadata": {
        "colab": {
          "base_uri": "https://localhost:8080/"
        },
        "id": "sL9fD8n63n_X",
        "outputId": "23254d5b-b183-4cee-c435-d9239016b658"
      },
      "execution_count": null,
      "outputs": [
        {
          "output_type": "stream",
          "name": "stdout",
          "text": [
            "1 is Odd\n",
            "2 is Even\n"
          ]
        }
      ]
    }
  ]
}