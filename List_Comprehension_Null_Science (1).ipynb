{
  "nbformat": 4,
  "nbformat_minor": 0,
  "metadata": {
    "colab": {
      "name": "List_Comprehension_Null_Science.ipynb",
      "provenance": []
    },
    "kernelspec": {
      "name": "python3",
      "display_name": "Python 3"
    },
    "language_info": {
      "name": "python"
    }
  },
  "cells": [
    {
      "cell_type": "markdown",
      "source": [
        "# List Comprehension"
      ],
      "metadata": {
        "id": "WWd8-Qx-LN8x"
      }
    },
    {
      "cell_type": "markdown",
      "source": [
        "List Comprehension\n",
        "List comprehension offers a shorter syntax when you want to create a new list based on the values of an existing list.\n",
        "\n",
        "Example:\n",
        "\n",
        "Based on a list of groceries, you want a new list, containing only the groceries with the letter \"e\" in the name.\n",
        "\n",
        "Without list comprehension you will have to write a for statement with a conditional test inside:"
      ],
      "metadata": {
        "id": "tTFDv-seLTwV"
      }
    },
    {
      "cell_type": "code",
      "execution_count": 16,
      "metadata": {
        "colab": {
          "base_uri": "https://localhost:8080/"
        },
        "id": "c_k706noKsTu",
        "outputId": "03614cd5-be92-46b5-8d82-10ff89bd3cfb"
      },
      "outputs": [
        {
          "output_type": "stream",
          "name": "stdout",
          "text": [
            "['rice', 'bread', 'cereal', 'eyeliner']\n"
          ]
        }
      ],
      "source": [
        "groceries = [\"broom\", \"soap\", \"rice\", \"bread\", \"cereal\", \"fork\", \"spoon\", \"eyeliner\"]\n",
        "newlist = []\n",
        "\n",
        "for x in groceries:\n",
        "  if \"e\" in x:\n",
        "    newlist.append(x)\n",
        "\n",
        "print(newlist)"
      ]
    },
    {
      "cell_type": "markdown",
      "source": [
        "Or in the list a number,  you want a new list, that can perform mathematical operations on it"
      ],
      "metadata": {
        "id": "6_iTUYrvM4-X"
      }
    },
    {
      "cell_type": "code",
      "source": [
        "num1 = range(1, 20)\n",
        "num2 = range(1, 20)\n",
        "\n",
        "newlist = []\n",
        "\n",
        "for x in num1:\n",
        "  for y in num2:\n",
        "    if x//y == 4 and x%y == 2:\n",
        "      newlist.append([x, y])\n",
        "print(newlist)"
      ],
      "metadata": {
        "colab": {
          "base_uri": "https://localhost:8080/"
        },
        "id": "hvcAAF_rOagX",
        "outputId": "fad952cb-405b-4815-acb3-d79833366e81"
      },
      "execution_count": 17,
      "outputs": [
        {
          "output_type": "stream",
          "name": "stdout",
          "text": [
            "[[14, 3], [18, 4]]\n"
          ]
        }
      ]
    },
    {
      "cell_type": "markdown",
      "source": [
        "* With list comprehension you can do all that with only one line of code:"
      ],
      "metadata": {
        "id": "BWmxzY2vPUqN"
      }
    },
    {
      "cell_type": "markdown",
      "source": [
        "# The Syntax"
      ],
      "metadata": {
        "id": "6ONGh2LhPcYz"
      }
    },
    {
      "cell_type": "markdown",
      "source": [
        "newlist = [expression for item in iterable if condition == True]\n",
        "\n",
        "The return value is a new list, leaving the old list unchanged."
      ],
      "metadata": {
        "id": "UFDWwDCaPfML"
      }
    },
    {
      "cell_type": "code",
      "source": [
        "groceries = [\"broom\", \"soap\", \"rice\", \"bread\", \"cereal\", \"fork\", \"spoon\", \"eyeliner\"]\n",
        "newlist = [x for x in groceries if \"e\" in x]\n",
        "print(newlist)"
      ],
      "metadata": {
        "colab": {
          "base_uri": "https://localhost:8080/"
        },
        "id": "qWUtq-ItPens",
        "outputId": "759542c6-caf2-4470-b303-acc915e353d1"
      },
      "execution_count": 18,
      "outputs": [
        {
          "output_type": "stream",
          "name": "stdout",
          "text": [
            "['rice', 'bread', 'cereal', 'eyeliner']\n"
          ]
        }
      ]
    },
    {
      "cell_type": "code",
      "source": [
        "num1 = range(1, 20)\n",
        "num2 = range(1, 20)\n",
        "\n",
        "newlist = [x for x in num1 for y in num2 if x//y == 4 and x%y == 2]\n",
        "print(newlist)"
      ],
      "metadata": {
        "colab": {
          "base_uri": "https://localhost:8080/"
        },
        "id": "AReYrQ2xQw2d",
        "outputId": "beb66adf-9364-4ef1-ea26-7d74d4d89de4"
      },
      "execution_count": 19,
      "outputs": [
        {
          "output_type": "stream",
          "name": "stdout",
          "text": [
            "[14, 18]\n"
          ]
        }
      ]
    },
    {
      "cell_type": "markdown",
      "source": [
        "# Another example"
      ],
      "metadata": {
        "id": "0ugGLuRyV54u"
      }
    },
    {
      "cell_type": "markdown",
      "source": [
        "- Underscores include valid variable names\n",
        "- In general \"_\" is used as a throwaway variable (unimportant variable)"
      ],
      "metadata": {
        "id": "BmgCNQ6vRMu6"
      }
    },
    {
      "cell_type": "code",
      "source": [
        "num=range(1,8,2)\n",
        "newlist = [[_**0.5, _**2] for _ in num]\n",
        "print(newlist)"
      ],
      "metadata": {
        "colab": {
          "base_uri": "https://localhost:8080/"
        },
        "id": "jpr1tA7fRNr8",
        "outputId": "9243884b-df2c-46ba-e401-fbed214834a5"
      },
      "execution_count": 20,
      "outputs": [
        {
          "output_type": "stream",
          "name": "stdout",
          "text": [
            "[[1.0, 1], [1.7320508075688772, 9], [2.23606797749979, 25], [2.6457513110645907, 49]]\n"
          ]
        }
      ]
    },
    {
      "cell_type": "markdown",
      "source": [
        "#**For Loop**\n",
        ">for loop is used for iterating over a sequence (that is either a list, a tuple, a dictionary, a set, or a string).\n",
        "\n",
        "With the for loop we can execute a set of statements, once for each item in a list, tuple, set etc."
      ],
      "metadata": {
        "id": "bMTUA4gDUfs8"
      }
    },
    {
      "cell_type": "code",
      "source": [
        "color = ['Red', 'Green', 'Blue']\n",
        "\n",
        "for i in color:\n",
        "  print(\"Color\",i)"
      ],
      "metadata": {
        "colab": {
          "base_uri": "https://localhost:8080/"
        },
        "id": "LSxFwlvrUmgV",
        "outputId": "e70e008c-3da5-4847-ce04-ae6b8adda047"
      },
      "execution_count": 21,
      "outputs": [
        {
          "output_type": "stream",
          "name": "stdout",
          "text": [
            "Color Red\n",
            "Color Green\n",
            "Color Blue\n"
          ]
        }
      ]
    },
    {
      "cell_type": "markdown",
      "source": [
        "##**Looping Through a String**\n",
        "> Even strings are iterable objects, they contain a sequence of characters:"
      ],
      "metadata": {
        "id": "W55uKxyBUsbC"
      }
    },
    {
      "cell_type": "code",
      "source": [
        "for i in 'Looping':\n",
        "  print(i)"
      ],
      "metadata": {
        "colab": {
          "base_uri": "https://localhost:8080/"
        },
        "id": "CsogSyaLUtjD",
        "outputId": "f8e28412-606f-407f-a451-471c09d893bd"
      },
      "execution_count": 22,
      "outputs": [
        {
          "output_type": "stream",
          "name": "stdout",
          "text": [
            "L\n",
            "o\n",
            "o\n",
            "p\n",
            "i\n",
            "n\n",
            "g\n"
          ]
        }
      ]
    },
    {
      "cell_type": "markdown",
      "source": [
        "##**The range() Function**\n",
        "> To loop through a set of code a specified number of times, we can use the **range()** function,\n",
        "\n",
        "The range() function returns a sequence of numbers, starting from 0 by default, and increments by 1 (by default), and ends at a specified number."
      ],
      "metadata": {
        "id": "yYcelmdmUyGe"
      }
    },
    {
      "cell_type": "code",
      "source": [
        "for i in range(5):\n",
        "  print(i)"
      ],
      "metadata": {
        "colab": {
          "base_uri": "https://localhost:8080/"
        },
        "id": "NZpViMKvUzlg",
        "outputId": "8f550692-85b7-48b8-cb0d-1ae07b07d6e6"
      },
      "execution_count": 23,
      "outputs": [
        {
          "output_type": "stream",
          "name": "stdout",
          "text": [
            "0\n",
            "1\n",
            "2\n",
            "3\n",
            "4\n"
          ]
        }
      ]
    },
    {
      "cell_type": "markdown",
      "source": [
        "\\range(5) is not the values of 0 to 5, but the values 0 to 4."
      ],
      "metadata": {
        "id": "qtpdisaIU5Tg"
      }
    },
    {
      "cell_type": "code",
      "source": [
        "for i in range(2, 10):\n",
        "  print(i)"
      ],
      "metadata": {
        "colab": {
          "base_uri": "https://localhost:8080/"
        },
        "id": "brVs2xxGU6QM",
        "outputId": "6885e9fd-c5c1-441b-ee7e-36dcc13aa30a"
      },
      "execution_count": 24,
      "outputs": [
        {
          "output_type": "stream",
          "name": "stdout",
          "text": [
            "2\n",
            "3\n",
            "4\n",
            "5\n",
            "6\n",
            "7\n",
            "8\n",
            "9\n"
          ]
        }
      ]
    },
    {
      "cell_type": "markdown",
      "source": [
        "range(2, 10), which means values from 2 to 10 (but not including 10)."
      ],
      "metadata": {
        "id": "L-UZXSVWU824"
      }
    },
    {
      "cell_type": "code",
      "source": [
        "for i in range(0, 20, 3):\n",
        "  print(i)"
      ],
      "metadata": {
        "colab": {
          "base_uri": "https://localhost:8080/"
        },
        "id": "IyAqX_0uU_Rp",
        "outputId": "a000c4cc-d132-4b44-e6d0-7b24dfebfd5c"
      },
      "execution_count": 25,
      "outputs": [
        {
          "output_type": "stream",
          "name": "stdout",
          "text": [
            "0\n",
            "3\n",
            "6\n",
            "9\n",
            "12\n",
            "15\n",
            "18\n"
          ]
        }
      ]
    },
    {
      "cell_type": "markdown",
      "source": [
        "specify the increment value by adding a third parameter."
      ],
      "metadata": {
        "id": "G3hULautVEPF"
      }
    },
    {
      "cell_type": "markdown",
      "source": [
        "##**FOR NESTED**\n",
        "> A nested loop is a loop inside a loop."
      ],
      "metadata": {
        "id": "ijz5LgeAVHGG"
      }
    },
    {
      "cell_type": "code",
      "source": [
        "for i in range(5): #row\n",
        "  for j in range(5): #column\n",
        "    if j<=5:\n",
        "      print(\"*\", end=\" \")\n",
        "  print()"
      ],
      "metadata": {
        "colab": {
          "base_uri": "https://localhost:8080/"
        },
        "id": "lMlxMxjxVJfP",
        "outputId": "d4a65ca8-1117-4fe9-ffa2-45623d259b4a"
      },
      "execution_count": 26,
      "outputs": [
        {
          "output_type": "stream",
          "name": "stdout",
          "text": [
            "* * * * * \n",
            "* * * * * \n",
            "* * * * * \n",
            "* * * * * \n",
            "* * * * * \n"
          ]
        }
      ]
    },
    {
      "cell_type": "code",
      "source": [
        "for i in range(5): #Row\n",
        "  for j in range(i+1): #Column\n",
        "    print(\"*\", end=\" \")\n",
        "  print()"
      ],
      "metadata": {
        "colab": {
          "base_uri": "https://localhost:8080/"
        },
        "id": "uSjjDKLqVL9l",
        "outputId": "70860283-a303-4f83-9396-da1feb416ee9"
      },
      "execution_count": 27,
      "outputs": [
        {
          "output_type": "stream",
          "name": "stdout",
          "text": [
            "* \n",
            "* * \n",
            "* * * \n",
            "* * * * \n",
            "* * * * * \n"
          ]
        }
      ]
    },
    {
      "cell_type": "markdown",
      "source": [
        "##**break Statement**\n",
        "> with the break statement we can stop the loop before it has looped through all the items"
      ],
      "metadata": {
        "id": "Rx73w8TZVOKp"
      }
    },
    {
      "cell_type": "code",
      "source": [
        "for i in \"Data Science\":\n",
        "  if i==\" \":\n",
        "    break #Stop right here\n",
        "  print(i)"
      ],
      "metadata": {
        "colab": {
          "base_uri": "https://localhost:8080/"
        },
        "id": "bLynjRrYVQP4",
        "outputId": "2c0803f5-2a68-43fe-f067-3d4fcae800ef"
      },
      "execution_count": 28,
      "outputs": [
        {
          "output_type": "stream",
          "name": "stdout",
          "text": [
            "D\n",
            "a\n",
            "t\n",
            "a\n"
          ]
        }
      ]
    },
    {
      "cell_type": "markdown",
      "source": [
        "##**continue Statement**\n",
        "> with the continue statement we can stop the current iteration of the loop, and continue with the next:"
      ],
      "metadata": {
        "id": "OblnkbyjVSJ9"
      }
    },
    {
      "cell_type": "code",
      "source": [
        "par = \"This is example for Continue Statement\"\n",
        "\n",
        "for i in par:\n",
        "  if i==\"a\" or i==\"i\" or i==\"u\" or i==\"e\" or i==\"o\":\n",
        "    continue\n",
        "  print(i, end=\"\")\n",
        "  #print(i)"
      ],
      "metadata": {
        "colab": {
          "base_uri": "https://localhost:8080/"
        },
        "id": "tC48YJtUVVTV",
        "outputId": "f832453a-82cb-4be8-b1a2-3c999e8a429e"
      },
      "execution_count": 29,
      "outputs": [
        {
          "output_type": "stream",
          "name": "stdout",
          "text": [
            "Ths s xmpl fr Cntn Sttmnt"
          ]
        }
      ]
    },
    {
      "cell_type": "markdown",
      "source": [
        "##**Else after For**\n",
        "> usually using for searching data"
      ],
      "metadata": {
        "id": "qSy7qGCtVYD7"
      }
    },
    {
      "cell_type": "code",
      "source": [
        "#Find First Even Number \n",
        "\n",
        "for i in range(1, 7):\n",
        "  if i % 2 == 0:\n",
        "    print(\"{} is Even\". format(i))\n",
        "    break #Stop if True\n",
        "  else:\n",
        "    print(\"{} is Odd\". format(i))"
      ],
      "metadata": {
        "colab": {
          "base_uri": "https://localhost:8080/"
        },
        "id": "YmlVN65bVaJW",
        "outputId": "57b6b5ad-060a-4661-e5f7-215fbbd5e606"
      },
      "execution_count": 30,
      "outputs": [
        {
          "output_type": "stream",
          "name": "stdout",
          "text": [
            "1 is Odd\n",
            "2 is Even\n"
          ]
        }
      ]
    },
    {
      "cell_type": "markdown",
      "source": [
        "# Break Statement\n",
        "* The break statement in Python terminates the current loop and resumes execution at the next statement\n",
        "* The break statement can be used in both while and for loops"
      ],
      "metadata": {
        "id": "t_DSabL6Vpgn"
      }
    },
    {
      "cell_type": "code",
      "source": [
        "for i in \"Learning Python from Youtube\" :\n",
        "  if i == \"f\" :\n",
        "    break\n",
        "  print(i)"
      ],
      "metadata": {
        "colab": {
          "base_uri": "https://localhost:8080/"
        },
        "id": "8oON3_onVsZ9",
        "outputId": "0ff30539-8045-4875-8781-e0d8ebb2fef2"
      },
      "execution_count": null,
      "outputs": [
        {
          "output_type": "stream",
          "name": "stdout",
          "text": [
            "L\n",
            "e\n",
            "a\n",
            "r\n",
            "n\n",
            "i\n",
            "n\n",
            "g\n",
            " \n",
            "P\n",
            "y\n",
            "t\n",
            "h\n",
            "o\n",
            "n\n",
            " \n"
          ]
        }
      ]
    },
    {
      "cell_type": "markdown",
      "source": [
        "# Continue Statement\n",
        "* The continue statement in Python returns the control to the beginning of the while loop\n",
        "* The continue statement rejects all the remaining statements in the current iteration of the loop and moves the control back to the top of the loop\n",
        "* The continue statement can be used in both while and for loops"
      ],
      "metadata": {
        "id": "lBxq_QZpVvgS"
      }
    },
    {
      "cell_type": "code",
      "source": [
        "for i in \"Learning\" :\n",
        "  if i == \"n\" :\n",
        "    continue\n",
        "  print(i)"
      ],
      "metadata": {
        "colab": {
          "base_uri": "https://localhost:8080/"
        },
        "id": "xWm0vebmVx80",
        "outputId": "c5bb413a-7672-4834-b55a-3bf1ba400534"
      },
      "execution_count": null,
      "outputs": [
        {
          "output_type": "stream",
          "name": "stdout",
          "text": [
            "L\n",
            "e\n",
            "a\n",
            "r\n",
            "i\n",
            "g\n"
          ]
        }
      ]
    },
    {
      "cell_type": "markdown",
      "source": [
        "# Pass Statement\n",
        "* The pass statement is used as a placeholder for future code.\n",
        "* When the pass statement is executed, nothing happens, but the avoid getting an error when empty code is not allowed.\n",
        "* Pass statement is used when it's not yet implemented, and keeps the program running."
      ],
      "metadata": {
        "id": "wW1SrnyZV0mu"
      }
    },
    {
      "cell_type": "code",
      "source": [
        "n = \"\"\n",
        "\n",
        "while(n != \"z\"):\n",
        "  n = (input(\"Peroleh : \"))\n",
        "  print(\"Mendapat angka {} \".format(int(n))) #should numeric"
      ],
      "metadata": {
        "colab": {
          "base_uri": "https://localhost:8080/",
          "height": 252
        },
        "id": "d-njeE-9V24K",
        "outputId": "2e926ad3-2ece-4a0b-858f-df54903214f2"
      },
      "execution_count": 33,
      "outputs": [
        {
          "name": "stdout",
          "output_type": "stream",
          "text": [
            "Peroleh : 2\n",
            "Mendapat angka 2 \n",
            "Peroleh : z\n"
          ]
        },
        {
          "output_type": "error",
          "ename": "ValueError",
          "evalue": "ignored",
          "traceback": [
            "\u001b[0;31m---------------------------------------------------------------------------\u001b[0m",
            "\u001b[0;31mValueError\u001b[0m                                Traceback (most recent call last)",
            "\u001b[0;32m<ipython-input-33-ed5a3ebbaae8>\u001b[0m in \u001b[0;36m<module>\u001b[0;34m()\u001b[0m\n\u001b[1;32m      3\u001b[0m \u001b[0;32mwhile\u001b[0m\u001b[0;34m(\u001b[0m\u001b[0mn\u001b[0m \u001b[0;34m!=\u001b[0m \u001b[0;34m\"z\"\u001b[0m\u001b[0;34m)\u001b[0m\u001b[0;34m:\u001b[0m\u001b[0;34m\u001b[0m\u001b[0;34m\u001b[0m\u001b[0m\n\u001b[1;32m      4\u001b[0m   \u001b[0mn\u001b[0m \u001b[0;34m=\u001b[0m \u001b[0;34m(\u001b[0m\u001b[0minput\u001b[0m\u001b[0;34m(\u001b[0m\u001b[0;34m\"Peroleh : \"\u001b[0m\u001b[0;34m)\u001b[0m\u001b[0;34m)\u001b[0m\u001b[0;34m\u001b[0m\u001b[0;34m\u001b[0m\u001b[0m\n\u001b[0;32m----> 5\u001b[0;31m   \u001b[0mprint\u001b[0m\u001b[0;34m(\u001b[0m\u001b[0;34m\"Mendapat angka {} \"\u001b[0m\u001b[0;34m.\u001b[0m\u001b[0mformat\u001b[0m\u001b[0;34m(\u001b[0m\u001b[0mint\u001b[0m\u001b[0;34m(\u001b[0m\u001b[0mn\u001b[0m\u001b[0;34m)\u001b[0m\u001b[0;34m)\u001b[0m\u001b[0;34m)\u001b[0m \u001b[0;31m#should numeric\u001b[0m\u001b[0;34m\u001b[0m\u001b[0;34m\u001b[0m\u001b[0m\n\u001b[0m",
            "\u001b[0;31mValueError\u001b[0m: invalid literal for int() with base 10: 'z'"
          ]
        }
      ]
    },
    {
      "cell_type": "code",
      "source": [
        "import sys #error checking (try and except)\n",
        "\n",
        "n = ''\n",
        "\n",
        "while(n != \"exit\"):\n",
        "  try:\n",
        "    n = input(\"Enter : \")\n",
        "    #n = int(input(\"Enter : \"))\n",
        "    print(\"Angka {} \".format(int(n))) #want integer\n",
        "  except:\n",
        "    if n==\"exit\":\n",
        "      pass #will stop\n",
        "    else:\n",
        "      print(\"Error {} \".format(sys.exc_info()[0]))"
      ],
      "metadata": {
        "colab": {
          "base_uri": "https://localhost:8080/"
        },
        "id": "eo5i3N07V6nu",
        "outputId": "65c022ed-73c9-44bb-9961-22eafc57f2a2"
      },
      "execution_count": 35,
      "outputs": [
        {
          "name": "stdout",
          "output_type": "stream",
          "text": [
            "Enter : a\n",
            "Error <class 'ValueError'> \n",
            "Enter : 2\n",
            "Angka 2 \n",
            "Enter : exit\n"
          ]
        }
      ]
    },
    {
      "cell_type": "markdown",
      "source": [
        "# While"
      ],
      "metadata": {
        "id": "bFqN6EUgWsh0"
      }
    },
    {
      "cell_type": "markdown",
      "source": [
        "# Else after While\n",
        "* Else is only executed when a while condition becomes false"
      ],
      "metadata": {
        "id": "bdcTCnryWvAI"
      }
    },
    {
      "cell_type": "code",
      "source": [
        "a = 10\n",
        "\n",
        "while(a<=15):\n",
        "  print(a)\n",
        "  a+=1\n",
        "else :\n",
        "  print(\"loop selesai\")"
      ],
      "metadata": {
        "colab": {
          "base_uri": "https://localhost:8080/"
        },
        "id": "p2quCvPuWzqG",
        "outputId": "badf9054-2a4f-4ffa-f69a-c1362b05feca"
      },
      "execution_count": 36,
      "outputs": [
        {
          "output_type": "stream",
          "name": "stdout",
          "text": [
            "10\n",
            "11\n",
            "12\n",
            "13\n",
            "14\n",
            "15\n",
            "loop selesai\n"
          ]
        }
      ]
    },
    {
      "cell_type": "markdown",
      "source": [
        "# **Syntax Errors**\n",
        "\n",
        "---\n",
        "\n",
        "Syntax errors or often called parsing errors."
      ],
      "metadata": {
        "id": "rciFO1pqXAGF"
      }
    },
    {
      "cell_type": "markdown",
      "source": [
        "Syntax errors occur when Python can't understand what you're commanding. Whereas exceptions (errors while operating) occur when Python understands what you are commanding but gets problems following what you command (occurs when the application is already running)."
      ],
      "metadata": {
        "id": "UpYGveqiXEBF"
      }
    },
    {
      "cell_type": "markdown",
      "source": [
        "**Example of a syntax error :**\n",
        "\n",
        "*   Incorrect placement of indents (spaces at the beginning)."
      ],
      "metadata": {
        "id": "E8eIBHW-XGVW"
      }
    },
    {
      "cell_type": "code",
      "source": [
        "print('Hello World')\n",
        " File \"<stdin>\", line 1\n",
        "  print('Hello World')"
      ],
      "metadata": {
        "id": "CiAdMpp3XJNt"
      },
      "execution_count": null,
      "outputs": []
    },
    {
      "cell_type": "markdown",
      "source": [
        "*   After the condition of the while command requires a colon (:)."
      ],
      "metadata": {
        "id": "MxJhgX3PXL9r"
      }
    },
    {
      "cell_type": "code",
      "source": [
        "while True print('Hello world')\n",
        " File \"<stdin>\", line 1\n",
        "  while True print('Hello world')"
      ],
      "metadata": {
        "id": "BXVyhYWaXN37"
      },
      "execution_count": null,
      "outputs": []
    },
    {
      "cell_type": "markdown",
      "source": [
        "In a syntax error, the line where the error was detected is reappeared, followed by an arrow indicating the earliest point of the error.\n",
        "\n",
        "The two examples above have different groups (types) of errors, the first is Indentation Error and the second is Syntax Error. Then after mentioning it, there is a detailed error message (description), such as an unexpected indent.\n",
        "\n",
        "If using script call mode, the script file name and line number where the error occurred will be returned. As for the interactive mode in the two examples above, the filename appears as \"stdin\". Here's an example of calling a script named example_error_syntax.py where an error occurs on line 2."
      ],
      "metadata": {
        "id": "a7Znn2nMXP_n"
      }
    },
    {
      "cell_type": "code",
      "source": [
        "python syntax_error.py\n",
        " File \"syntax error.py\", line 2\n",
        "  if True print('Syntax is wrong')"
      ],
      "metadata": {
        "id": "Ij2bAEPUXWiC"
      },
      "execution_count": null,
      "outputs": []
    },
    {
      "cell_type": "markdown",
      "source": [
        "Another Example :"
      ],
      "metadata": {
        "id": "_R5vtbVrXYfh"
      }
    },
    {
      "cell_type": "code",
      "source": [
        "print\"Hello World"
      ],
      "metadata": {
        "id": "edQAEM67XaqO"
      },
      "execution_count": null,
      "outputs": []
    },
    {
      "cell_type": "markdown",
      "source": [
        "# Exceptions\n",
        "if a statement or expression is syntactically correct, it may cause an error when an attempt is made to execute it. Errors detected during execution are called exceptions and are not unconditionally fatal"
      ],
      "metadata": {
        "id": "wIkGzNYcZACg"
      }
    },
    {
      "cell_type": "code",
      "source": [
        "10 * (1/0)"
      ],
      "metadata": {
        "colab": {
          "base_uri": "https://localhost:8080/",
          "height": 165
        },
        "id": "IhV8mjKwZQ8y",
        "outputId": "0bd3ec94-780d-4e65-a60a-047eb01f889e"
      },
      "execution_count": 37,
      "outputs": [
        {
          "output_type": "error",
          "ename": "ZeroDivisionError",
          "evalue": "ignored",
          "traceback": [
            "\u001b[0;31m---------------------------------------------------------------------------\u001b[0m",
            "\u001b[0;31mZeroDivisionError\u001b[0m                         Traceback (most recent call last)",
            "\u001b[0;32m<ipython-input-37-0b280f36835c>\u001b[0m in \u001b[0;36m<module>\u001b[0;34m()\u001b[0m\n\u001b[0;32m----> 1\u001b[0;31m \u001b[0;36m10\u001b[0m \u001b[0;34m*\u001b[0m \u001b[0;34m(\u001b[0m\u001b[0;36m1\u001b[0m\u001b[0;34m/\u001b[0m\u001b[0;36m0\u001b[0m\u001b[0;34m)\u001b[0m\u001b[0;34m\u001b[0m\u001b[0;34m\u001b[0m\u001b[0m\n\u001b[0m",
            "\u001b[0;31mZeroDivisionError\u001b[0m: division by zero"
          ]
        }
      ]
    },
    {
      "cell_type": "code",
      "source": [
        "4 + spam*3"
      ],
      "metadata": {
        "colab": {
          "base_uri": "https://localhost:8080/",
          "height": 165
        },
        "id": "2mm2TAWHZSrc",
        "outputId": "0cb6be27-9e4d-4384-cb2d-c9216d42fbc7"
      },
      "execution_count": 38,
      "outputs": [
        {
          "output_type": "error",
          "ename": "NameError",
          "evalue": "ignored",
          "traceback": [
            "\u001b[0;31m---------------------------------------------------------------------------\u001b[0m",
            "\u001b[0;31mNameError\u001b[0m                                 Traceback (most recent call last)",
            "\u001b[0;32m<ipython-input-38-c98bb92cdcac>\u001b[0m in \u001b[0;36m<module>\u001b[0;34m()\u001b[0m\n\u001b[0;32m----> 1\u001b[0;31m \u001b[0;36m4\u001b[0m \u001b[0;34m+\u001b[0m \u001b[0mspam\u001b[0m\u001b[0;34m*\u001b[0m\u001b[0;36m3\u001b[0m\u001b[0;34m\u001b[0m\u001b[0;34m\u001b[0m\u001b[0m\n\u001b[0m",
            "\u001b[0;31mNameError\u001b[0m: name 'spam' is not defined"
          ]
        }
      ]
    },
    {
      "cell_type": "code",
      "source": [
        "'2' + 2"
      ],
      "metadata": {
        "colab": {
          "base_uri": "https://localhost:8080/",
          "height": 165
        },
        "id": "nIbX8ofoac-C",
        "outputId": "d6125553-d76e-4a03-a90b-ca7b6b80bf32"
      },
      "execution_count": 39,
      "outputs": [
        {
          "output_type": "error",
          "ename": "TypeError",
          "evalue": "ignored",
          "traceback": [
            "\u001b[0;31m---------------------------------------------------------------------------\u001b[0m",
            "\u001b[0;31mTypeError\u001b[0m                                 Traceback (most recent call last)",
            "\u001b[0;32m<ipython-input-39-d2b23a1db757>\u001b[0m in \u001b[0;36m<module>\u001b[0;34m()\u001b[0m\n\u001b[0;32m----> 1\u001b[0;31m \u001b[0;34m'2'\u001b[0m \u001b[0;34m+\u001b[0m \u001b[0;36m2\u001b[0m\u001b[0;34m\u001b[0m\u001b[0;34m\u001b[0m\u001b[0m\n\u001b[0m",
            "\u001b[0;31mTypeError\u001b[0m: can only concatenate str (not \"int\") to str"
          ]
        }
      ]
    },
    {
      "cell_type": "markdown",
      "source": [
        "The last line of the error message indicates what happened. Exceptions come in different types, and the type is printed as part of the message: the types in the example are ZeroDivisionError, NameError and TypeError"
      ],
      "metadata": {
        "id": "T_EnDi6cal_j"
      }
    },
    {
      "cell_type": "code",
      "source": [
        "# import module sys to get the type of exception\n",
        "import sys\n",
        "\n",
        "randomList = ['a', 0, 2]\n",
        "\n",
        "for entry in randomList:\n",
        "    try:\n",
        "        print(\"The entry is\", entry)\n",
        "        r = 1/int(entry)\n",
        "        break\n",
        "    except:\n",
        "        print(\"Oops!\", sys.exc_info()[0], \"occurred.\")\n",
        "        print(\"Next entry.\")\n",
        "        print()\n",
        "print(\"The reciprocal of\", entry, \"is\", r)"
      ],
      "metadata": {
        "colab": {
          "base_uri": "https://localhost:8080/"
        },
        "id": "vEVMYPJLawc4",
        "outputId": "484448b7-6e89-43b5-d15d-3fe73f8ecce7"
      },
      "execution_count": 40,
      "outputs": [
        {
          "output_type": "stream",
          "name": "stdout",
          "text": [
            "The entry is a\n",
            "Oops! <class 'ValueError'> occurred.\n",
            "Next entry.\n",
            "\n",
            "The entry is 0\n",
            "Oops! <class 'ZeroDivisionError'> occurred.\n",
            "Next entry.\n",
            "\n",
            "The entry is 2\n",
            "The reciprocal of 2 is 0.5\n"
          ]
        }
      ]
    },
    {
      "cell_type": "code",
      "source": [
        "# import module sys to get the type of exception\n",
        "import sys\n",
        "\n",
        "randomList = ['a', 0, 2]\n",
        "\n",
        "for entry in randomList:\n",
        "    try:\n",
        "        print(\"The entry is\", entry)\n",
        "        r = 1/int(entry)\n",
        "        break\n",
        "    except Exception as e:\n",
        "        print(\"Oops!\", e.__class__, \"occurred.\")\n",
        "        print(\"Next entry.\")\n",
        "        print()\n",
        "print(\"The reciprocal of\", entry, \"is\", r)"
      ],
      "metadata": {
        "colab": {
          "base_uri": "https://localhost:8080/"
        },
        "id": "lYFZzoCHbLA1",
        "outputId": "7a0c4f32-5fa3-4e22-edae-235b7d1a9127"
      },
      "execution_count": 41,
      "outputs": [
        {
          "output_type": "stream",
          "name": "stdout",
          "text": [
            "The entry is a\n",
            "Oops! <class 'ValueError'> occurred.\n",
            "Next entry.\n",
            "\n",
            "The entry is 0\n",
            "Oops! <class 'ZeroDivisionError'> occurred.\n",
            "Next entry.\n",
            "\n",
            "The entry is 2\n",
            "The reciprocal of 2 is 0.5\n"
          ]
        }
      ]
    },
    {
      "cell_type": "markdown",
      "source": [
        "In this program, we loop through the values of the randomList list. As previously mentioned, the portion that can cause an exception is placed inside the try block.\n",
        "If no exception occurs, the except block is skipped and normal flow continues(for last value). But if any exception occurs, it is caught by the except block (first and second values).\n",
        "\n",
        "Since every exception in Python inherits from the base Exception class, we can also perform the above task in the following way:"
      ],
      "metadata": {
        "id": "rwVU5sBNbPoU"
      }
    }
  ]
}